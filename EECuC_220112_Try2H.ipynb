{
  "cells": [
    {
      "cell_type": "markdown",
      "metadata": {
        "id": "view-in-github",
        "colab_type": "text"
      },
      "source": [
        "<a href=\"https://colab.research.google.com/github/NewTAs/EECuC/blob/main/EECuC_220112_Try2H.ipynb\" target=\"_parent\"><img src=\"https://colab.research.google.com/assets/colab-badge.svg\" alt=\"Open In Colab\"/></a>"
      ]
    },
    {
      "cell_type": "code",
      "execution_count": 1,
      "metadata": {
        "colab": {
          "base_uri": "https://localhost:8080/"
        },
        "id": "xgBO72ZY81tE",
        "outputId": "52fac547-787f-449d-effe-e85f94f8ff4f"
      },
      "outputs": [
        {
          "output_type": "stream",
          "name": "stdout",
          "text": [
            "Mounted at CNNDATA\n"
          ]
        }
      ],
      "source": [
        "import os\n",
        "import re\n",
        "import glob\n",
        "import cv2\n",
        "import numpy as np\n",
        "from sklearn.model_selection import train_test_split\n",
        "\n",
        "import tensorflow as tf\n",
        "\n",
        "from google.colab import drive\n",
        "drive.mount('CNNDATA')"
      ]
    },
    {
      "cell_type": "code",
      "execution_count": 2,
      "metadata": {
        "colab": {
          "base_uri": "https://localhost:8080/"
        },
        "id": "H9aasxuq-Pia",
        "outputId": "182d11ee-7e73-4c35-ba94-b0efd4c5943d"
      },
      "outputs": [
        {
          "output_type": "stream",
          "name": "stdout",
          "text": [
            "Found 100 images belonging to 5 classes.\n",
            "Found 40 images belonging to 5 classes.\n"
          ]
        }
      ],
      "source": [
        "numberOfClass = 5\n",
        "pictureWeightHeightSize = 224\n",
        "\n",
        "train_datagen = tf.keras.preprocessing.image.ImageDataGenerator(rescale=1./255)\n",
        "\n",
        "train_generator = train_datagen.flow_from_directory(\n",
        "        '/content/CNNDATA/MyDrive/CNNDATA/Train/',\n",
        "        target_size=(pictureWeightHeightSize, pictureWeightHeightSize),\n",
        "        batch_size=numberOfClass,\n",
        "        class_mode='categorical')\n",
        "\n",
        "test_datagen = tf.keras.preprocessing.image.ImageDataGenerator(rescale=1./255)\n",
        "\n",
        "test_generator = test_datagen.flow_from_directory(\n",
        "        '/content/CNNDATA/MyDrive/CNNDATA/Validation/',\n",
        "        target_size=(pictureWeightHeightSize, pictureWeightHeightSize),    \n",
        "        batch_size=numberOfClass,\n",
        "        class_mode='categorical')"
      ]
    },
    {
      "cell_type": "code",
      "execution_count": 3,
      "metadata": {
        "id": "eFApPT_d-q2g"
      },
      "outputs": [],
      "source": [
        "from tensorflow.keras.applications import MobileNetV2\n",
        "\n",
        "model = MobileNetV2(include_top=True, weights=None, input_shape=(224, 224, 3), pooling=max, classes=5)"
      ]
    },
    {
      "cell_type": "code",
      "execution_count": 4,
      "metadata": {
        "colab": {
          "base_uri": "https://localhost:8080/"
        },
        "id": "H6q5upFt_wCq",
        "outputId": "cabe158b-bcf8-4d54-af4d-3eb1a1b806fd"
      },
      "outputs": [
        {
          "output_type": "stream",
          "name": "stdout",
          "text": [
            "Model: \"mobilenetv2_1.00_224\"\n",
            "__________________________________________________________________________________________________\n",
            " Layer (type)                   Output Shape         Param #     Connected to                     \n",
            "==================================================================================================\n",
            " input_1 (InputLayer)           [(None, 224, 224, 3  0           []                               \n",
            "                                )]                                                                \n",
            "                                                                                                  \n",
            " Conv1 (Conv2D)                 (None, 112, 112, 32  864         ['input_1[0][0]']                \n",
            "                                )                                                                 \n",
            "                                                                                                  \n",
            " bn_Conv1 (BatchNormalization)  (None, 112, 112, 32  128         ['Conv1[0][0]']                  \n",
            "                                )                                                                 \n",
            "                                                                                                  \n",
            " Conv1_relu (ReLU)              (None, 112, 112, 32  0           ['bn_Conv1[0][0]']               \n",
            "                                )                                                                 \n",
            "                                                                                                  \n",
            " expanded_conv_depthwise (Depth  (None, 112, 112, 32  288        ['Conv1_relu[0][0]']             \n",
            " wiseConv2D)                    )                                                                 \n",
            "                                                                                                  \n",
            " expanded_conv_depthwise_BN (Ba  (None, 112, 112, 32  128        ['expanded_conv_depthwise[0][0]']\n",
            " tchNormalization)              )                                                                 \n",
            "                                                                                                  \n",
            " expanded_conv_depthwise_relu (  (None, 112, 112, 32  0          ['expanded_conv_depthwise_BN[0][0\n",
            " ReLU)                          )                                ]']                              \n",
            "                                                                                                  \n",
            " expanded_conv_project (Conv2D)  (None, 112, 112, 16  512        ['expanded_conv_depthwise_relu[0]\n",
            "                                )                                [0]']                            \n",
            "                                                                                                  \n",
            " expanded_conv_project_BN (Batc  (None, 112, 112, 16  64         ['expanded_conv_project[0][0]']  \n",
            " hNormalization)                )                                                                 \n",
            "                                                                                                  \n",
            " block_1_expand (Conv2D)        (None, 112, 112, 96  1536        ['expanded_conv_project_BN[0][0]'\n",
            "                                )                                ]                                \n",
            "                                                                                                  \n",
            " block_1_expand_BN (BatchNormal  (None, 112, 112, 96  384        ['block_1_expand[0][0]']         \n",
            " ization)                       )                                                                 \n",
            "                                                                                                  \n",
            " block_1_expand_relu (ReLU)     (None, 112, 112, 96  0           ['block_1_expand_BN[0][0]']      \n",
            "                                )                                                                 \n",
            "                                                                                                  \n",
            " block_1_pad (ZeroPadding2D)    (None, 113, 113, 96  0           ['block_1_expand_relu[0][0]']    \n",
            "                                )                                                                 \n",
            "                                                                                                  \n",
            " block_1_depthwise (DepthwiseCo  (None, 56, 56, 96)  864         ['block_1_pad[0][0]']            \n",
            " nv2D)                                                                                            \n",
            "                                                                                                  \n",
            " block_1_depthwise_BN (BatchNor  (None, 56, 56, 96)  384         ['block_1_depthwise[0][0]']      \n",
            " malization)                                                                                      \n",
            "                                                                                                  \n",
            " block_1_depthwise_relu (ReLU)  (None, 56, 56, 96)   0           ['block_1_depthwise_BN[0][0]']   \n",
            "                                                                                                  \n",
            " block_1_project (Conv2D)       (None, 56, 56, 24)   2304        ['block_1_depthwise_relu[0][0]'] \n",
            "                                                                                                  \n",
            " block_1_project_BN (BatchNorma  (None, 56, 56, 24)  96          ['block_1_project[0][0]']        \n",
            " lization)                                                                                        \n",
            "                                                                                                  \n",
            " block_2_expand (Conv2D)        (None, 56, 56, 144)  3456        ['block_1_project_BN[0][0]']     \n",
            "                                                                                                  \n",
            " block_2_expand_BN (BatchNormal  (None, 56, 56, 144)  576        ['block_2_expand[0][0]']         \n",
            " ization)                                                                                         \n",
            "                                                                                                  \n",
            " block_2_expand_relu (ReLU)     (None, 56, 56, 144)  0           ['block_2_expand_BN[0][0]']      \n",
            "                                                                                                  \n",
            " block_2_depthwise (DepthwiseCo  (None, 56, 56, 144)  1296       ['block_2_expand_relu[0][0]']    \n",
            " nv2D)                                                                                            \n",
            "                                                                                                  \n",
            " block_2_depthwise_BN (BatchNor  (None, 56, 56, 144)  576        ['block_2_depthwise[0][0]']      \n",
            " malization)                                                                                      \n",
            "                                                                                                  \n",
            " block_2_depthwise_relu (ReLU)  (None, 56, 56, 144)  0           ['block_2_depthwise_BN[0][0]']   \n",
            "                                                                                                  \n",
            " block_2_project (Conv2D)       (None, 56, 56, 24)   3456        ['block_2_depthwise_relu[0][0]'] \n",
            "                                                                                                  \n",
            " block_2_project_BN (BatchNorma  (None, 56, 56, 24)  96          ['block_2_project[0][0]']        \n",
            " lization)                                                                                        \n",
            "                                                                                                  \n",
            " block_2_add (Add)              (None, 56, 56, 24)   0           ['block_1_project_BN[0][0]',     \n",
            "                                                                  'block_2_project_BN[0][0]']     \n",
            "                                                                                                  \n",
            " block_3_expand (Conv2D)        (None, 56, 56, 144)  3456        ['block_2_add[0][0]']            \n",
            "                                                                                                  \n",
            " block_3_expand_BN (BatchNormal  (None, 56, 56, 144)  576        ['block_3_expand[0][0]']         \n",
            " ization)                                                                                         \n",
            "                                                                                                  \n",
            " block_3_expand_relu (ReLU)     (None, 56, 56, 144)  0           ['block_3_expand_BN[0][0]']      \n",
            "                                                                                                  \n",
            " block_3_pad (ZeroPadding2D)    (None, 57, 57, 144)  0           ['block_3_expand_relu[0][0]']    \n",
            "                                                                                                  \n",
            " block_3_depthwise (DepthwiseCo  (None, 28, 28, 144)  1296       ['block_3_pad[0][0]']            \n",
            " nv2D)                                                                                            \n",
            "                                                                                                  \n",
            " block_3_depthwise_BN (BatchNor  (None, 28, 28, 144)  576        ['block_3_depthwise[0][0]']      \n",
            " malization)                                                                                      \n",
            "                                                                                                  \n",
            " block_3_depthwise_relu (ReLU)  (None, 28, 28, 144)  0           ['block_3_depthwise_BN[0][0]']   \n",
            "                                                                                                  \n",
            " block_3_project (Conv2D)       (None, 28, 28, 32)   4608        ['block_3_depthwise_relu[0][0]'] \n",
            "                                                                                                  \n",
            " block_3_project_BN (BatchNorma  (None, 28, 28, 32)  128         ['block_3_project[0][0]']        \n",
            " lization)                                                                                        \n",
            "                                                                                                  \n",
            " block_4_expand (Conv2D)        (None, 28, 28, 192)  6144        ['block_3_project_BN[0][0]']     \n",
            "                                                                                                  \n",
            " block_4_expand_BN (BatchNormal  (None, 28, 28, 192)  768        ['block_4_expand[0][0]']         \n",
            " ization)                                                                                         \n",
            "                                                                                                  \n",
            " block_4_expand_relu (ReLU)     (None, 28, 28, 192)  0           ['block_4_expand_BN[0][0]']      \n",
            "                                                                                                  \n",
            " block_4_depthwise (DepthwiseCo  (None, 28, 28, 192)  1728       ['block_4_expand_relu[0][0]']    \n",
            " nv2D)                                                                                            \n",
            "                                                                                                  \n",
            " block_4_depthwise_BN (BatchNor  (None, 28, 28, 192)  768        ['block_4_depthwise[0][0]']      \n",
            " malization)                                                                                      \n",
            "                                                                                                  \n",
            " block_4_depthwise_relu (ReLU)  (None, 28, 28, 192)  0           ['block_4_depthwise_BN[0][0]']   \n",
            "                                                                                                  \n",
            " block_4_project (Conv2D)       (None, 28, 28, 32)   6144        ['block_4_depthwise_relu[0][0]'] \n",
            "                                                                                                  \n",
            " block_4_project_BN (BatchNorma  (None, 28, 28, 32)  128         ['block_4_project[0][0]']        \n",
            " lization)                                                                                        \n",
            "                                                                                                  \n",
            " block_4_add (Add)              (None, 28, 28, 32)   0           ['block_3_project_BN[0][0]',     \n",
            "                                                                  'block_4_project_BN[0][0]']     \n",
            "                                                                                                  \n",
            " block_5_expand (Conv2D)        (None, 28, 28, 192)  6144        ['block_4_add[0][0]']            \n",
            "                                                                                                  \n",
            " block_5_expand_BN (BatchNormal  (None, 28, 28, 192)  768        ['block_5_expand[0][0]']         \n",
            " ization)                                                                                         \n",
            "                                                                                                  \n",
            " block_5_expand_relu (ReLU)     (None, 28, 28, 192)  0           ['block_5_expand_BN[0][0]']      \n",
            "                                                                                                  \n",
            " block_5_depthwise (DepthwiseCo  (None, 28, 28, 192)  1728       ['block_5_expand_relu[0][0]']    \n",
            " nv2D)                                                                                            \n",
            "                                                                                                  \n",
            " block_5_depthwise_BN (BatchNor  (None, 28, 28, 192)  768        ['block_5_depthwise[0][0]']      \n",
            " malization)                                                                                      \n",
            "                                                                                                  \n",
            " block_5_depthwise_relu (ReLU)  (None, 28, 28, 192)  0           ['block_5_depthwise_BN[0][0]']   \n",
            "                                                                                                  \n",
            " block_5_project (Conv2D)       (None, 28, 28, 32)   6144        ['block_5_depthwise_relu[0][0]'] \n",
            "                                                                                                  \n",
            " block_5_project_BN (BatchNorma  (None, 28, 28, 32)  128         ['block_5_project[0][0]']        \n",
            " lization)                                                                                        \n",
            "                                                                                                  \n",
            " block_5_add (Add)              (None, 28, 28, 32)   0           ['block_4_add[0][0]',            \n",
            "                                                                  'block_5_project_BN[0][0]']     \n",
            "                                                                                                  \n",
            " block_6_expand (Conv2D)        (None, 28, 28, 192)  6144        ['block_5_add[0][0]']            \n",
            "                                                                                                  \n",
            " block_6_expand_BN (BatchNormal  (None, 28, 28, 192)  768        ['block_6_expand[0][0]']         \n",
            " ization)                                                                                         \n",
            "                                                                                                  \n",
            " block_6_expand_relu (ReLU)     (None, 28, 28, 192)  0           ['block_6_expand_BN[0][0]']      \n",
            "                                                                                                  \n",
            " block_6_pad (ZeroPadding2D)    (None, 29, 29, 192)  0           ['block_6_expand_relu[0][0]']    \n",
            "                                                                                                  \n",
            " block_6_depthwise (DepthwiseCo  (None, 14, 14, 192)  1728       ['block_6_pad[0][0]']            \n",
            " nv2D)                                                                                            \n",
            "                                                                                                  \n",
            " block_6_depthwise_BN (BatchNor  (None, 14, 14, 192)  768        ['block_6_depthwise[0][0]']      \n",
            " malization)                                                                                      \n",
            "                                                                                                  \n",
            " block_6_depthwise_relu (ReLU)  (None, 14, 14, 192)  0           ['block_6_depthwise_BN[0][0]']   \n",
            "                                                                                                  \n",
            " block_6_project (Conv2D)       (None, 14, 14, 64)   12288       ['block_6_depthwise_relu[0][0]'] \n",
            "                                                                                                  \n",
            " block_6_project_BN (BatchNorma  (None, 14, 14, 64)  256         ['block_6_project[0][0]']        \n",
            " lization)                                                                                        \n",
            "                                                                                                  \n",
            " block_7_expand (Conv2D)        (None, 14, 14, 384)  24576       ['block_6_project_BN[0][0]']     \n",
            "                                                                                                  \n",
            " block_7_expand_BN (BatchNormal  (None, 14, 14, 384)  1536       ['block_7_expand[0][0]']         \n",
            " ization)                                                                                         \n",
            "                                                                                                  \n",
            " block_7_expand_relu (ReLU)     (None, 14, 14, 384)  0           ['block_7_expand_BN[0][0]']      \n",
            "                                                                                                  \n",
            " block_7_depthwise (DepthwiseCo  (None, 14, 14, 384)  3456       ['block_7_expand_relu[0][0]']    \n",
            " nv2D)                                                                                            \n",
            "                                                                                                  \n",
            " block_7_depthwise_BN (BatchNor  (None, 14, 14, 384)  1536       ['block_7_depthwise[0][0]']      \n",
            " malization)                                                                                      \n",
            "                                                                                                  \n",
            " block_7_depthwise_relu (ReLU)  (None, 14, 14, 384)  0           ['block_7_depthwise_BN[0][0]']   \n",
            "                                                                                                  \n",
            " block_7_project (Conv2D)       (None, 14, 14, 64)   24576       ['block_7_depthwise_relu[0][0]'] \n",
            "                                                                                                  \n",
            " block_7_project_BN (BatchNorma  (None, 14, 14, 64)  256         ['block_7_project[0][0]']        \n",
            " lization)                                                                                        \n",
            "                                                                                                  \n",
            " block_7_add (Add)              (None, 14, 14, 64)   0           ['block_6_project_BN[0][0]',     \n",
            "                                                                  'block_7_project_BN[0][0]']     \n",
            "                                                                                                  \n",
            " block_8_expand (Conv2D)        (None, 14, 14, 384)  24576       ['block_7_add[0][0]']            \n",
            "                                                                                                  \n",
            " block_8_expand_BN (BatchNormal  (None, 14, 14, 384)  1536       ['block_8_expand[0][0]']         \n",
            " ization)                                                                                         \n",
            "                                                                                                  \n",
            " block_8_expand_relu (ReLU)     (None, 14, 14, 384)  0           ['block_8_expand_BN[0][0]']      \n",
            "                                                                                                  \n",
            " block_8_depthwise (DepthwiseCo  (None, 14, 14, 384)  3456       ['block_8_expand_relu[0][0]']    \n",
            " nv2D)                                                                                            \n",
            "                                                                                                  \n",
            " block_8_depthwise_BN (BatchNor  (None, 14, 14, 384)  1536       ['block_8_depthwise[0][0]']      \n",
            " malization)                                                                                      \n",
            "                                                                                                  \n",
            " block_8_depthwise_relu (ReLU)  (None, 14, 14, 384)  0           ['block_8_depthwise_BN[0][0]']   \n",
            "                                                                                                  \n",
            " block_8_project (Conv2D)       (None, 14, 14, 64)   24576       ['block_8_depthwise_relu[0][0]'] \n",
            "                                                                                                  \n",
            " block_8_project_BN (BatchNorma  (None, 14, 14, 64)  256         ['block_8_project[0][0]']        \n",
            " lization)                                                                                        \n",
            "                                                                                                  \n",
            " block_8_add (Add)              (None, 14, 14, 64)   0           ['block_7_add[0][0]',            \n",
            "                                                                  'block_8_project_BN[0][0]']     \n",
            "                                                                                                  \n",
            " block_9_expand (Conv2D)        (None, 14, 14, 384)  24576       ['block_8_add[0][0]']            \n",
            "                                                                                                  \n",
            " block_9_expand_BN (BatchNormal  (None, 14, 14, 384)  1536       ['block_9_expand[0][0]']         \n",
            " ization)                                                                                         \n",
            "                                                                                                  \n",
            " block_9_expand_relu (ReLU)     (None, 14, 14, 384)  0           ['block_9_expand_BN[0][0]']      \n",
            "                                                                                                  \n",
            " block_9_depthwise (DepthwiseCo  (None, 14, 14, 384)  3456       ['block_9_expand_relu[0][0]']    \n",
            " nv2D)                                                                                            \n",
            "                                                                                                  \n",
            " block_9_depthwise_BN (BatchNor  (None, 14, 14, 384)  1536       ['block_9_depthwise[0][0]']      \n",
            " malization)                                                                                      \n",
            "                                                                                                  \n",
            " block_9_depthwise_relu (ReLU)  (None, 14, 14, 384)  0           ['block_9_depthwise_BN[0][0]']   \n",
            "                                                                                                  \n",
            " block_9_project (Conv2D)       (None, 14, 14, 64)   24576       ['block_9_depthwise_relu[0][0]'] \n",
            "                                                                                                  \n",
            " block_9_project_BN (BatchNorma  (None, 14, 14, 64)  256         ['block_9_project[0][0]']        \n",
            " lization)                                                                                        \n",
            "                                                                                                  \n",
            " block_9_add (Add)              (None, 14, 14, 64)   0           ['block_8_add[0][0]',            \n",
            "                                                                  'block_9_project_BN[0][0]']     \n",
            "                                                                                                  \n",
            " block_10_expand (Conv2D)       (None, 14, 14, 384)  24576       ['block_9_add[0][0]']            \n",
            "                                                                                                  \n",
            " block_10_expand_BN (BatchNorma  (None, 14, 14, 384)  1536       ['block_10_expand[0][0]']        \n",
            " lization)                                                                                        \n",
            "                                                                                                  \n",
            " block_10_expand_relu (ReLU)    (None, 14, 14, 384)  0           ['block_10_expand_BN[0][0]']     \n",
            "                                                                                                  \n",
            " block_10_depthwise (DepthwiseC  (None, 14, 14, 384)  3456       ['block_10_expand_relu[0][0]']   \n",
            " onv2D)                                                                                           \n",
            "                                                                                                  \n",
            " block_10_depthwise_BN (BatchNo  (None, 14, 14, 384)  1536       ['block_10_depthwise[0][0]']     \n",
            " rmalization)                                                                                     \n",
            "                                                                                                  \n",
            " block_10_depthwise_relu (ReLU)  (None, 14, 14, 384)  0          ['block_10_depthwise_BN[0][0]']  \n",
            "                                                                                                  \n",
            " block_10_project (Conv2D)      (None, 14, 14, 96)   36864       ['block_10_depthwise_relu[0][0]']\n",
            "                                                                                                  \n",
            " block_10_project_BN (BatchNorm  (None, 14, 14, 96)  384         ['block_10_project[0][0]']       \n",
            " alization)                                                                                       \n",
            "                                                                                                  \n",
            " block_11_expand (Conv2D)       (None, 14, 14, 576)  55296       ['block_10_project_BN[0][0]']    \n",
            "                                                                                                  \n",
            " block_11_expand_BN (BatchNorma  (None, 14, 14, 576)  2304       ['block_11_expand[0][0]']        \n",
            " lization)                                                                                        \n",
            "                                                                                                  \n",
            " block_11_expand_relu (ReLU)    (None, 14, 14, 576)  0           ['block_11_expand_BN[0][0]']     \n",
            "                                                                                                  \n",
            " block_11_depthwise (DepthwiseC  (None, 14, 14, 576)  5184       ['block_11_expand_relu[0][0]']   \n",
            " onv2D)                                                                                           \n",
            "                                                                                                  \n",
            " block_11_depthwise_BN (BatchNo  (None, 14, 14, 576)  2304       ['block_11_depthwise[0][0]']     \n",
            " rmalization)                                                                                     \n",
            "                                                                                                  \n",
            " block_11_depthwise_relu (ReLU)  (None, 14, 14, 576)  0          ['block_11_depthwise_BN[0][0]']  \n",
            "                                                                                                  \n",
            " block_11_project (Conv2D)      (None, 14, 14, 96)   55296       ['block_11_depthwise_relu[0][0]']\n",
            "                                                                                                  \n",
            " block_11_project_BN (BatchNorm  (None, 14, 14, 96)  384         ['block_11_project[0][0]']       \n",
            " alization)                                                                                       \n",
            "                                                                                                  \n",
            " block_11_add (Add)             (None, 14, 14, 96)   0           ['block_10_project_BN[0][0]',    \n",
            "                                                                  'block_11_project_BN[0][0]']    \n",
            "                                                                                                  \n",
            " block_12_expand (Conv2D)       (None, 14, 14, 576)  55296       ['block_11_add[0][0]']           \n",
            "                                                                                                  \n",
            " block_12_expand_BN (BatchNorma  (None, 14, 14, 576)  2304       ['block_12_expand[0][0]']        \n",
            " lization)                                                                                        \n",
            "                                                                                                  \n",
            " block_12_expand_relu (ReLU)    (None, 14, 14, 576)  0           ['block_12_expand_BN[0][0]']     \n",
            "                                                                                                  \n",
            " block_12_depthwise (DepthwiseC  (None, 14, 14, 576)  5184       ['block_12_expand_relu[0][0]']   \n",
            " onv2D)                                                                                           \n",
            "                                                                                                  \n",
            " block_12_depthwise_BN (BatchNo  (None, 14, 14, 576)  2304       ['block_12_depthwise[0][0]']     \n",
            " rmalization)                                                                                     \n",
            "                                                                                                  \n",
            " block_12_depthwise_relu (ReLU)  (None, 14, 14, 576)  0          ['block_12_depthwise_BN[0][0]']  \n",
            "                                                                                                  \n",
            " block_12_project (Conv2D)      (None, 14, 14, 96)   55296       ['block_12_depthwise_relu[0][0]']\n",
            "                                                                                                  \n",
            " block_12_project_BN (BatchNorm  (None, 14, 14, 96)  384         ['block_12_project[0][0]']       \n",
            " alization)                                                                                       \n",
            "                                                                                                  \n",
            " block_12_add (Add)             (None, 14, 14, 96)   0           ['block_11_add[0][0]',           \n",
            "                                                                  'block_12_project_BN[0][0]']    \n",
            "                                                                                                  \n",
            " block_13_expand (Conv2D)       (None, 14, 14, 576)  55296       ['block_12_add[0][0]']           \n",
            "                                                                                                  \n",
            " block_13_expand_BN (BatchNorma  (None, 14, 14, 576)  2304       ['block_13_expand[0][0]']        \n",
            " lization)                                                                                        \n",
            "                                                                                                  \n",
            " block_13_expand_relu (ReLU)    (None, 14, 14, 576)  0           ['block_13_expand_BN[0][0]']     \n",
            "                                                                                                  \n",
            " block_13_pad (ZeroPadding2D)   (None, 15, 15, 576)  0           ['block_13_expand_relu[0][0]']   \n",
            "                                                                                                  \n",
            " block_13_depthwise (DepthwiseC  (None, 7, 7, 576)   5184        ['block_13_pad[0][0]']           \n",
            " onv2D)                                                                                           \n",
            "                                                                                                  \n",
            " block_13_depthwise_BN (BatchNo  (None, 7, 7, 576)   2304        ['block_13_depthwise[0][0]']     \n",
            " rmalization)                                                                                     \n",
            "                                                                                                  \n",
            " block_13_depthwise_relu (ReLU)  (None, 7, 7, 576)   0           ['block_13_depthwise_BN[0][0]']  \n",
            "                                                                                                  \n",
            " block_13_project (Conv2D)      (None, 7, 7, 160)    92160       ['block_13_depthwise_relu[0][0]']\n",
            "                                                                                                  \n",
            " block_13_project_BN (BatchNorm  (None, 7, 7, 160)   640         ['block_13_project[0][0]']       \n",
            " alization)                                                                                       \n",
            "                                                                                                  \n",
            " block_14_expand (Conv2D)       (None, 7, 7, 960)    153600      ['block_13_project_BN[0][0]']    \n",
            "                                                                                                  \n",
            " block_14_expand_BN (BatchNorma  (None, 7, 7, 960)   3840        ['block_14_expand[0][0]']        \n",
            " lization)                                                                                        \n",
            "                                                                                                  \n",
            " block_14_expand_relu (ReLU)    (None, 7, 7, 960)    0           ['block_14_expand_BN[0][0]']     \n",
            "                                                                                                  \n",
            " block_14_depthwise (DepthwiseC  (None, 7, 7, 960)   8640        ['block_14_expand_relu[0][0]']   \n",
            " onv2D)                                                                                           \n",
            "                                                                                                  \n",
            " block_14_depthwise_BN (BatchNo  (None, 7, 7, 960)   3840        ['block_14_depthwise[0][0]']     \n",
            " rmalization)                                                                                     \n",
            "                                                                                                  \n",
            " block_14_depthwise_relu (ReLU)  (None, 7, 7, 960)   0           ['block_14_depthwise_BN[0][0]']  \n",
            "                                                                                                  \n",
            " block_14_project (Conv2D)      (None, 7, 7, 160)    153600      ['block_14_depthwise_relu[0][0]']\n",
            "                                                                                                  \n",
            " block_14_project_BN (BatchNorm  (None, 7, 7, 160)   640         ['block_14_project[0][0]']       \n",
            " alization)                                                                                       \n",
            "                                                                                                  \n",
            " block_14_add (Add)             (None, 7, 7, 160)    0           ['block_13_project_BN[0][0]',    \n",
            "                                                                  'block_14_project_BN[0][0]']    \n",
            "                                                                                                  \n",
            " block_15_expand (Conv2D)       (None, 7, 7, 960)    153600      ['block_14_add[0][0]']           \n",
            "                                                                                                  \n",
            " block_15_expand_BN (BatchNorma  (None, 7, 7, 960)   3840        ['block_15_expand[0][0]']        \n",
            " lization)                                                                                        \n",
            "                                                                                                  \n",
            " block_15_expand_relu (ReLU)    (None, 7, 7, 960)    0           ['block_15_expand_BN[0][0]']     \n",
            "                                                                                                  \n",
            " block_15_depthwise (DepthwiseC  (None, 7, 7, 960)   8640        ['block_15_expand_relu[0][0]']   \n",
            " onv2D)                                                                                           \n",
            "                                                                                                  \n",
            " block_15_depthwise_BN (BatchNo  (None, 7, 7, 960)   3840        ['block_15_depthwise[0][0]']     \n",
            " rmalization)                                                                                     \n",
            "                                                                                                  \n",
            " block_15_depthwise_relu (ReLU)  (None, 7, 7, 960)   0           ['block_15_depthwise_BN[0][0]']  \n",
            "                                                                                                  \n",
            " block_15_project (Conv2D)      (None, 7, 7, 160)    153600      ['block_15_depthwise_relu[0][0]']\n",
            "                                                                                                  \n",
            " block_15_project_BN (BatchNorm  (None, 7, 7, 160)   640         ['block_15_project[0][0]']       \n",
            " alization)                                                                                       \n",
            "                                                                                                  \n",
            " block_15_add (Add)             (None, 7, 7, 160)    0           ['block_14_add[0][0]',           \n",
            "                                                                  'block_15_project_BN[0][0]']    \n",
            "                                                                                                  \n",
            " block_16_expand (Conv2D)       (None, 7, 7, 960)    153600      ['block_15_add[0][0]']           \n",
            "                                                                                                  \n",
            " block_16_expand_BN (BatchNorma  (None, 7, 7, 960)   3840        ['block_16_expand[0][0]']        \n",
            " lization)                                                                                        \n",
            "                                                                                                  \n",
            " block_16_expand_relu (ReLU)    (None, 7, 7, 960)    0           ['block_16_expand_BN[0][0]']     \n",
            "                                                                                                  \n",
            " block_16_depthwise (DepthwiseC  (None, 7, 7, 960)   8640        ['block_16_expand_relu[0][0]']   \n",
            " onv2D)                                                                                           \n",
            "                                                                                                  \n",
            " block_16_depthwise_BN (BatchNo  (None, 7, 7, 960)   3840        ['block_16_depthwise[0][0]']     \n",
            " rmalization)                                                                                     \n",
            "                                                                                                  \n",
            " block_16_depthwise_relu (ReLU)  (None, 7, 7, 960)   0           ['block_16_depthwise_BN[0][0]']  \n",
            "                                                                                                  \n",
            " block_16_project (Conv2D)      (None, 7, 7, 320)    307200      ['block_16_depthwise_relu[0][0]']\n",
            "                                                                                                  \n",
            " block_16_project_BN (BatchNorm  (None, 7, 7, 320)   1280        ['block_16_project[0][0]']       \n",
            " alization)                                                                                       \n",
            "                                                                                                  \n",
            " Conv_1 (Conv2D)                (None, 7, 7, 1280)   409600      ['block_16_project_BN[0][0]']    \n",
            "                                                                                                  \n",
            " Conv_1_bn (BatchNormalization)  (None, 7, 7, 1280)  5120        ['Conv_1[0][0]']                 \n",
            "                                                                                                  \n",
            " out_relu (ReLU)                (None, 7, 7, 1280)   0           ['Conv_1_bn[0][0]']              \n",
            "                                                                                                  \n",
            " global_average_pooling2d (Glob  (None, 1280)        0           ['out_relu[0][0]']               \n",
            " alAveragePooling2D)                                                                              \n",
            "                                                                                                  \n",
            " predictions (Dense)            (None, 5)            6405        ['global_average_pooling2d[0][0]'\n",
            "                                                                 ]                                \n",
            "                                                                                                  \n",
            "==================================================================================================\n",
            "Total params: 2,264,389\n",
            "Trainable params: 2,230,277\n",
            "Non-trainable params: 34,112\n",
            "__________________________________________________________________________________________________\n"
          ]
        }
      ],
      "source": [
        "model.compile(loss='categorical_crossentropy', metrics=['accuracy'], optimizer='adam')\n",
        "model.summary()"
      ]
    },
    {
      "cell_type": "code",
      "execution_count": 5,
      "metadata": {
        "colab": {
          "base_uri": "https://localhost:8080/"
        },
        "id": "XTvRldGR_xMC",
        "outputId": "2a5bfba8-b2c4-4c7b-aa78-78c311b48a99"
      },
      "outputs": [
        {
          "output_type": "stream",
          "name": "stdout",
          "text": [
            "Epoch 1/100\n",
            "20/20 [==============================] - 36s 1s/step - loss: 1.7673 - accuracy: 0.3200 - val_loss: 1.6097 - val_accuracy: 0.2000\n",
            "Epoch 2/100\n",
            "20/20 [==============================] - 2s 106ms/step - loss: 1.1346 - accuracy: 0.6000 - val_loss: 1.6111 - val_accuracy: 0.2000\n",
            "Epoch 3/100\n",
            "20/20 [==============================] - 2s 100ms/step - loss: 1.1379 - accuracy: 0.6400 - val_loss: 1.6172 - val_accuracy: 0.2000\n",
            "Epoch 4/100\n",
            "20/20 [==============================] - 2s 99ms/step - loss: 1.0371 - accuracy: 0.6500 - val_loss: 1.6254 - val_accuracy: 0.2000\n",
            "Epoch 5/100\n",
            "20/20 [==============================] - 2s 98ms/step - loss: 0.7022 - accuracy: 0.6800 - val_loss: 1.6611 - val_accuracy: 0.2000\n",
            "Epoch 6/100\n",
            "20/20 [==============================] - 2s 100ms/step - loss: 0.7266 - accuracy: 0.7700 - val_loss: 1.6730 - val_accuracy: 0.2000\n",
            "Epoch 7/100\n",
            "20/20 [==============================] - 2s 98ms/step - loss: 0.5759 - accuracy: 0.8300 - val_loss: 1.7305 - val_accuracy: 0.2000\n",
            "Epoch 8/100\n",
            "20/20 [==============================] - 2s 99ms/step - loss: 0.5269 - accuracy: 0.8300 - val_loss: 1.8296 - val_accuracy: 0.2000\n",
            "Epoch 9/100\n",
            "20/20 [==============================] - 2s 99ms/step - loss: 0.3515 - accuracy: 0.8800 - val_loss: 1.7897 - val_accuracy: 0.2000\n",
            "Epoch 10/100\n",
            "20/20 [==============================] - 2s 99ms/step - loss: 0.2998 - accuracy: 0.9000 - val_loss: 1.9483 - val_accuracy: 0.2000\n",
            "Epoch 11/100\n",
            "20/20 [==============================] - 2s 101ms/step - loss: 0.3541 - accuracy: 0.8900 - val_loss: 1.9503 - val_accuracy: 0.2000\n",
            "Epoch 12/100\n",
            "20/20 [==============================] - 2s 98ms/step - loss: 0.1995 - accuracy: 0.9200 - val_loss: 1.9712 - val_accuracy: 0.2000\n",
            "Epoch 13/100\n",
            "20/20 [==============================] - 2s 99ms/step - loss: 0.1112 - accuracy: 0.9700 - val_loss: 2.0460 - val_accuracy: 0.2000\n",
            "Epoch 14/100\n",
            "20/20 [==============================] - 2s 100ms/step - loss: 0.1342 - accuracy: 0.9500 - val_loss: 2.1170 - val_accuracy: 0.2000\n",
            "Epoch 15/100\n",
            "20/20 [==============================] - 2s 99ms/step - loss: 0.2226 - accuracy: 0.9100 - val_loss: 2.2319 - val_accuracy: 0.2000\n",
            "Epoch 16/100\n",
            "20/20 [==============================] - 2s 100ms/step - loss: 0.3526 - accuracy: 0.8600 - val_loss: 2.4286 - val_accuracy: 0.2000\n",
            "Epoch 17/100\n",
            "20/20 [==============================] - 2s 101ms/step - loss: 0.2752 - accuracy: 0.9000 - val_loss: 2.5968 - val_accuracy: 0.2000\n",
            "Epoch 18/100\n",
            "20/20 [==============================] - 2s 99ms/step - loss: 0.3671 - accuracy: 0.8600 - val_loss: 2.8029 - val_accuracy: 0.2000\n",
            "Epoch 19/100\n",
            "20/20 [==============================] - 2s 100ms/step - loss: 0.4078 - accuracy: 0.8800 - val_loss: 2.7596 - val_accuracy: 0.2000\n",
            "Epoch 20/100\n",
            "20/20 [==============================] - 2s 100ms/step - loss: 0.1728 - accuracy: 0.9300 - val_loss: 2.9256 - val_accuracy: 0.2000\n",
            "Epoch 21/100\n",
            "20/20 [==============================] - 2s 100ms/step - loss: 0.2951 - accuracy: 0.9100 - val_loss: 2.7911 - val_accuracy: 0.2000\n",
            "Epoch 22/100\n",
            "20/20 [==============================] - 2s 99ms/step - loss: 0.1262 - accuracy: 0.9600 - val_loss: 2.8991 - val_accuracy: 0.2000\n",
            "Epoch 23/100\n",
            "20/20 [==============================] - 2s 100ms/step - loss: 0.0990 - accuracy: 0.9800 - val_loss: 2.8570 - val_accuracy: 0.2000\n",
            "Epoch 24/100\n",
            "20/20 [==============================] - 2s 99ms/step - loss: 0.0641 - accuracy: 0.9800 - val_loss: 2.8632 - val_accuracy: 0.2000\n",
            "Epoch 25/100\n",
            "20/20 [==============================] - 2s 100ms/step - loss: 0.0326 - accuracy: 0.9900 - val_loss: 3.1969 - val_accuracy: 0.2000\n",
            "Epoch 26/100\n",
            "20/20 [==============================] - 2s 98ms/step - loss: 0.0581 - accuracy: 0.9800 - val_loss: 3.3779 - val_accuracy: 0.2000\n",
            "Epoch 27/100\n",
            "20/20 [==============================] - 2s 100ms/step - loss: 0.0655 - accuracy: 0.9700 - val_loss: 3.5252 - val_accuracy: 0.2000\n",
            "Epoch 28/100\n",
            "20/20 [==============================] - 2s 99ms/step - loss: 0.0407 - accuracy: 0.9900 - val_loss: 3.3973 - val_accuracy: 0.2000\n",
            "Epoch 29/100\n",
            "20/20 [==============================] - 2s 100ms/step - loss: 0.0732 - accuracy: 0.9700 - val_loss: 3.9560 - val_accuracy: 0.2000\n",
            "Epoch 30/100\n",
            "20/20 [==============================] - 2s 98ms/step - loss: 0.2863 - accuracy: 0.9400 - val_loss: 3.8854 - val_accuracy: 0.2000\n",
            "Epoch 31/100\n",
            "20/20 [==============================] - 2s 99ms/step - loss: 0.1062 - accuracy: 0.9700 - val_loss: 3.7711 - val_accuracy: 0.2000\n",
            "Epoch 32/100\n",
            "20/20 [==============================] - 2s 100ms/step - loss: 0.0879 - accuracy: 0.9700 - val_loss: 4.0540 - val_accuracy: 0.2000\n",
            "Epoch 33/100\n",
            "20/20 [==============================] - 2s 98ms/step - loss: 0.3214 - accuracy: 0.9000 - val_loss: 4.0013 - val_accuracy: 0.2000\n",
            "Epoch 34/100\n",
            "20/20 [==============================] - 2s 98ms/step - loss: 0.1772 - accuracy: 0.9500 - val_loss: 4.0869 - val_accuracy: 0.2000\n",
            "Epoch 35/100\n",
            "20/20 [==============================] - 2s 100ms/step - loss: 0.2836 - accuracy: 0.9000 - val_loss: 4.3048 - val_accuracy: 0.2000\n",
            "Epoch 36/100\n",
            "20/20 [==============================] - 2s 100ms/step - loss: 0.2590 - accuracy: 0.9000 - val_loss: 4.6593 - val_accuracy: 0.2000\n",
            "Epoch 37/100\n",
            "20/20 [==============================] - 2s 99ms/step - loss: 0.1215 - accuracy: 0.9700 - val_loss: 4.3082 - val_accuracy: 0.2000\n",
            "Epoch 38/100\n",
            "20/20 [==============================] - 2s 99ms/step - loss: 0.3572 - accuracy: 0.8600 - val_loss: 5.5974 - val_accuracy: 0.2000\n",
            "Epoch 39/100\n",
            "20/20 [==============================] - 2s 100ms/step - loss: 0.4356 - accuracy: 0.8400 - val_loss: 4.4502 - val_accuracy: 0.2000\n",
            "Epoch 40/100\n",
            "20/20 [==============================] - 2s 100ms/step - loss: 0.1817 - accuracy: 0.9400 - val_loss: 4.3855 - val_accuracy: 0.2000\n",
            "Epoch 41/100\n",
            "20/20 [==============================] - 2s 98ms/step - loss: 0.2113 - accuracy: 0.9200 - val_loss: 5.4755 - val_accuracy: 0.2000\n",
            "Epoch 42/100\n",
            "20/20 [==============================] - 2s 99ms/step - loss: 0.2671 - accuracy: 0.9100 - val_loss: 4.8830 - val_accuracy: 0.2000\n",
            "Epoch 43/100\n",
            "20/20 [==============================] - 2s 100ms/step - loss: 0.0574 - accuracy: 0.9800 - val_loss: 4.5656 - val_accuracy: 0.2000\n",
            "Epoch 44/100\n",
            "20/20 [==============================] - 2s 101ms/step - loss: 0.0223 - accuracy: 1.0000 - val_loss: 4.6388 - val_accuracy: 0.2000\n",
            "Epoch 45/100\n",
            "20/20 [==============================] - 2s 101ms/step - loss: 0.0073 - accuracy: 1.0000 - val_loss: 4.5225 - val_accuracy: 0.2000\n",
            "Epoch 46/100\n",
            "20/20 [==============================] - 2s 98ms/step - loss: 0.0596 - accuracy: 0.9800 - val_loss: 4.7488 - val_accuracy: 0.2000\n",
            "Epoch 47/100\n",
            "20/20 [==============================] - 2s 100ms/step - loss: 0.0788 - accuracy: 0.9700 - val_loss: 4.9867 - val_accuracy: 0.2000\n",
            "Epoch 48/100\n",
            "20/20 [==============================] - 2s 98ms/step - loss: 0.1555 - accuracy: 0.9600 - val_loss: 5.4402 - val_accuracy: 0.2000\n",
            "Epoch 49/100\n",
            "20/20 [==============================] - 2s 100ms/step - loss: 0.0451 - accuracy: 0.9900 - val_loss: 5.0820 - val_accuracy: 0.2000\n",
            "Epoch 50/100\n",
            "20/20 [==============================] - 2s 102ms/step - loss: 0.0408 - accuracy: 0.9900 - val_loss: 4.9028 - val_accuracy: 0.2000\n",
            "Epoch 51/100\n",
            "20/20 [==============================] - 2s 98ms/step - loss: 0.0201 - accuracy: 1.0000 - val_loss: 4.9295 - val_accuracy: 0.2000\n",
            "Epoch 52/100\n",
            "20/20 [==============================] - 2s 98ms/step - loss: 0.0335 - accuracy: 0.9900 - val_loss: 5.0254 - val_accuracy: 0.2000\n",
            "Epoch 53/100\n",
            "20/20 [==============================] - 2s 100ms/step - loss: 0.0693 - accuracy: 0.9800 - val_loss: 5.6603 - val_accuracy: 0.2000\n",
            "Epoch 54/100\n",
            "20/20 [==============================] - 2s 99ms/step - loss: 0.0080 - accuracy: 1.0000 - val_loss: 5.6366 - val_accuracy: 0.2000\n",
            "Epoch 55/100\n",
            "20/20 [==============================] - 2s 99ms/step - loss: 0.0366 - accuracy: 0.9900 - val_loss: 5.2840 - val_accuracy: 0.2000\n",
            "Epoch 56/100\n",
            "20/20 [==============================] - 2s 100ms/step - loss: 0.0185 - accuracy: 0.9900 - val_loss: 5.1153 - val_accuracy: 0.2000\n",
            "Epoch 57/100\n",
            "20/20 [==============================] - 2s 102ms/step - loss: 0.0381 - accuracy: 0.9900 - val_loss: 5.2061 - val_accuracy: 0.2000\n",
            "Epoch 58/100\n",
            "20/20 [==============================] - 2s 100ms/step - loss: 0.0787 - accuracy: 0.9900 - val_loss: 5.1488 - val_accuracy: 0.2000\n",
            "Epoch 59/100\n",
            "20/20 [==============================] - 2s 99ms/step - loss: 0.0130 - accuracy: 1.0000 - val_loss: 5.3600 - val_accuracy: 0.2000\n",
            "Epoch 60/100\n",
            "20/20 [==============================] - 2s 101ms/step - loss: 0.0044 - accuracy: 1.0000 - val_loss: 5.2702 - val_accuracy: 0.2000\n",
            "Epoch 61/100\n",
            "20/20 [==============================] - 2s 100ms/step - loss: 0.0282 - accuracy: 0.9900 - val_loss: 5.1660 - val_accuracy: 0.2000\n",
            "Epoch 62/100\n",
            "20/20 [==============================] - 2s 102ms/step - loss: 0.0322 - accuracy: 0.9900 - val_loss: 5.0955 - val_accuracy: 0.2000\n",
            "Epoch 63/100\n",
            "20/20 [==============================] - 2s 101ms/step - loss: 0.0074 - accuracy: 1.0000 - val_loss: 5.2988 - val_accuracy: 0.2000\n",
            "Epoch 64/100\n",
            "20/20 [==============================] - 2s 101ms/step - loss: 0.0341 - accuracy: 0.9800 - val_loss: 4.7186 - val_accuracy: 0.2000\n",
            "Epoch 65/100\n",
            "20/20 [==============================] - 2s 99ms/step - loss: 0.0744 - accuracy: 0.9700 - val_loss: 4.7506 - val_accuracy: 0.2000\n",
            "Epoch 66/100\n",
            "20/20 [==============================] - 2s 100ms/step - loss: 0.0782 - accuracy: 0.9900 - val_loss: 5.0764 - val_accuracy: 0.2000\n",
            "Epoch 67/100\n",
            "20/20 [==============================] - 2s 99ms/step - loss: 0.0202 - accuracy: 1.0000 - val_loss: 5.0498 - val_accuracy: 0.2000\n",
            "Epoch 68/100\n",
            "20/20 [==============================] - 2s 99ms/step - loss: 0.0129 - accuracy: 1.0000 - val_loss: 5.0618 - val_accuracy: 0.2000\n",
            "Epoch 69/100\n",
            "20/20 [==============================] - 2s 99ms/step - loss: 0.0699 - accuracy: 0.9800 - val_loss: 4.7504 - val_accuracy: 0.2000\n",
            "Epoch 70/100\n",
            "20/20 [==============================] - 2s 99ms/step - loss: 0.0589 - accuracy: 0.9800 - val_loss: 4.9014 - val_accuracy: 0.2000\n",
            "Epoch 71/100\n",
            "20/20 [==============================] - 2s 100ms/step - loss: 0.1947 - accuracy: 0.9100 - val_loss: 5.5212 - val_accuracy: 0.2000\n",
            "Epoch 72/100\n",
            "20/20 [==============================] - 2s 101ms/step - loss: 0.1770 - accuracy: 0.9700 - val_loss: 5.0873 - val_accuracy: 0.2000\n",
            "Epoch 73/100\n",
            "20/20 [==============================] - 2s 100ms/step - loss: 0.1134 - accuracy: 0.9500 - val_loss: 5.5982 - val_accuracy: 0.2000\n",
            "Epoch 74/100\n",
            "20/20 [==============================] - 2s 101ms/step - loss: 0.0547 - accuracy: 0.9800 - val_loss: 5.5190 - val_accuracy: 0.2000\n",
            "Epoch 75/100\n",
            "20/20 [==============================] - 2s 99ms/step - loss: 0.0929 - accuracy: 0.9800 - val_loss: 5.7356 - val_accuracy: 0.2000\n",
            "Epoch 76/100\n",
            "20/20 [==============================] - 2s 100ms/step - loss: 0.0236 - accuracy: 1.0000 - val_loss: 5.9859 - val_accuracy: 0.2000\n",
            "Epoch 77/100\n",
            "20/20 [==============================] - 2s 101ms/step - loss: 0.0500 - accuracy: 0.9600 - val_loss: 5.8258 - val_accuracy: 0.2000\n",
            "Epoch 78/100\n",
            "20/20 [==============================] - 2s 99ms/step - loss: 0.0129 - accuracy: 1.0000 - val_loss: 5.9603 - val_accuracy: 0.2000\n",
            "Epoch 79/100\n",
            "20/20 [==============================] - 2s 99ms/step - loss: 0.0196 - accuracy: 0.9900 - val_loss: 5.7310 - val_accuracy: 0.2000\n",
            "Epoch 80/100\n",
            "20/20 [==============================] - 2s 99ms/step - loss: 0.0606 - accuracy: 0.9900 - val_loss: 5.3395 - val_accuracy: 0.2000\n",
            "Epoch 81/100\n",
            "20/20 [==============================] - 2s 101ms/step - loss: 0.0604 - accuracy: 0.9700 - val_loss: 5.8283 - val_accuracy: 0.2000\n",
            "Epoch 82/100\n",
            "20/20 [==============================] - 2s 99ms/step - loss: 0.0690 - accuracy: 0.9700 - val_loss: 5.3787 - val_accuracy: 0.2000\n",
            "Epoch 83/100\n",
            "20/20 [==============================] - 2s 100ms/step - loss: 0.0121 - accuracy: 1.0000 - val_loss: 5.4107 - val_accuracy: 0.2000\n",
            "Epoch 84/100\n",
            "20/20 [==============================] - 2s 100ms/step - loss: 0.1071 - accuracy: 0.9700 - val_loss: 6.0312 - val_accuracy: 0.2000\n",
            "Epoch 85/100\n",
            "20/20 [==============================] - 2s 103ms/step - loss: 0.0965 - accuracy: 0.9600 - val_loss: 5.3262 - val_accuracy: 0.2000\n",
            "Epoch 86/100\n",
            "20/20 [==============================] - 2s 101ms/step - loss: 0.1416 - accuracy: 0.9400 - val_loss: 7.0717 - val_accuracy: 0.2000\n",
            "Epoch 87/100\n",
            "20/20 [==============================] - 2s 101ms/step - loss: 0.2664 - accuracy: 0.9300 - val_loss: 5.0988 - val_accuracy: 0.2000\n",
            "Epoch 88/100\n",
            "20/20 [==============================] - 2s 100ms/step - loss: 0.1945 - accuracy: 0.9200 - val_loss: 5.0611 - val_accuracy: 0.2000\n",
            "Epoch 89/100\n",
            "20/20 [==============================] - 2s 99ms/step - loss: 0.0522 - accuracy: 0.9800 - val_loss: 5.6071 - val_accuracy: 0.2000\n",
            "Epoch 90/100\n",
            "20/20 [==============================] - 2s 100ms/step - loss: 0.3160 - accuracy: 0.9200 - val_loss: 5.0995 - val_accuracy: 0.2000\n",
            "Epoch 91/100\n",
            "20/20 [==============================] - 2s 101ms/step - loss: 0.4153 - accuracy: 0.8700 - val_loss: 4.3627 - val_accuracy: 0.2000\n",
            "Epoch 92/100\n",
            "20/20 [==============================] - 2s 100ms/step - loss: 0.1907 - accuracy: 0.9300 - val_loss: 4.2885 - val_accuracy: 0.2000\n",
            "Epoch 93/100\n",
            "20/20 [==============================] - 2s 100ms/step - loss: 0.1443 - accuracy: 0.9600 - val_loss: 4.6332 - val_accuracy: 0.2000\n",
            "Epoch 94/100\n",
            "20/20 [==============================] - 2s 100ms/step - loss: 0.0880 - accuracy: 0.9700 - val_loss: 4.4757 - val_accuracy: 0.2000\n",
            "Epoch 95/100\n",
            "20/20 [==============================] - 2s 100ms/step - loss: 0.1062 - accuracy: 0.9700 - val_loss: 4.4879 - val_accuracy: 0.2000\n",
            "Epoch 96/100\n",
            "20/20 [==============================] - 2s 100ms/step - loss: 0.0354 - accuracy: 0.9900 - val_loss: 4.9414 - val_accuracy: 0.2000\n",
            "Epoch 97/100\n",
            "20/20 [==============================] - 2s 101ms/step - loss: 0.0262 - accuracy: 1.0000 - val_loss: 4.6840 - val_accuracy: 0.2000\n",
            "Epoch 98/100\n",
            "20/20 [==============================] - 2s 99ms/step - loss: 0.0874 - accuracy: 0.9800 - val_loss: 4.5632 - val_accuracy: 0.2000\n",
            "Epoch 99/100\n",
            "20/20 [==============================] - 2s 100ms/step - loss: 0.0464 - accuracy: 0.9800 - val_loss: 4.7325 - val_accuracy: 0.2000\n",
            "Epoch 100/100\n",
            "20/20 [==============================] - 2s 101ms/step - loss: 0.0108 - accuracy: 1.0000 - val_loss: 4.5855 - val_accuracy: 0.2000\n"
          ]
        },
        {
          "output_type": "execute_result",
          "data": {
            "text/plain": [
              "<keras.callbacks.History at 0x7f4d95d5b150>"
            ]
          },
          "metadata": {},
          "execution_count": 5
        }
      ],
      "source": [
        "model.fit(train_generator, epochs=100, validation_data=test_generator)"
      ]
    },
    {
      "cell_type": "code",
      "execution_count": 6,
      "metadata": {
        "colab": {
          "base_uri": "https://localhost:8080/"
        },
        "id": "CdkTqwVROEyD",
        "outputId": "7e897640-7e4f-4e19-b2a5-bc5b9616c17f"
      },
      "outputs": [
        {
          "output_type": "stream",
          "name": "stdout",
          "text": [
            "-- Evaluate --\n",
            "8/8 [==============================] - 0s 29ms/step - loss: 4.5855 - accuracy: 0.2000\n",
            "accuracy: 20.00%\n"
          ]
        }
      ],
      "source": [
        "print(\"-- Evaluate --\")\n",
        "scores = model.evaluate(test_generator)\n",
        "print(\"%s: %.2f%%\" %(model.metrics_names[1], scores[1]*100))"
      ]
    },
    {
      "cell_type": "code",
      "execution_count": 7,
      "metadata": {
        "id": "MEGe8D88OFjA"
      },
      "outputs": [],
      "source": [
        "import matplotlib.pyplot as plt"
      ]
    },
    {
      "cell_type": "code",
      "execution_count": 8,
      "metadata": {
        "colab": {
          "base_uri": "https://localhost:8080/"
        },
        "id": "XYfEVtnBlo90",
        "outputId": "28e05884-a002-4655-8c7b-b495bd1d7912"
      },
      "outputs": [
        {
          "output_type": "stream",
          "name": "stdout",
          "text": [
            "Found 1 images belonging to 1 classes.\n",
            "-- Predict --\n",
            "['0/015edge.png']\n",
            "{'0': 0}\n",
            "[[0.000 0.344 0.380 0.000 0.276]]\n"
          ]
        }
      ],
      "source": [
        "val_datagen = tf.keras.preprocessing.image.ImageDataGenerator(rescale=1./255)\n",
        "\n",
        "val_generator = val_datagen.flow_from_directory(\n",
        "        '/content/CNNDATA/MyDrive/CNNDATA/Test/001/',\n",
        "        target_size=(pictureWeightHeightSize, pictureWeightHeightSize),    \n",
        "        batch_size=numberOfClass,\n",
        "        class_mode='categorical')\n",
        "print(\"-- Predict --\")\n",
        "output = model.predict(val_generator)\n",
        "np.set_printoptions(formatter={'float': lambda x: \"{0:0.3f}\".format(x)})\n",
        "print(val_generator.filenames)\n",
        "print(val_generator.class_indices)\n",
        "print(output)"
      ]
    },
    {
      "cell_type": "code",
      "execution_count": 9,
      "metadata": {
        "colab": {
          "base_uri": "https://localhost:8080/"
        },
        "id": "D4-uTOIY2LWL",
        "outputId": "5fcd7a5e-d123-459c-fa8f-60fab18afd3f"
      },
      "outputs": [
        {
          "output_type": "stream",
          "name": "stdout",
          "text": [
            "Found 1 images belonging to 1 classes.\n",
            "-- Predict --\n",
            "['0/016edge.png']\n",
            "{'0': 0}\n",
            "[[0.000 0.344 0.380 0.000 0.276]]\n"
          ]
        }
      ],
      "source": [
        "val_datagen = tf.keras.preprocessing.image.ImageDataGenerator(rescale=1./255)\n",
        "\n",
        "val_generator = val_datagen.flow_from_directory(\n",
        "        '/content/CNNDATA/MyDrive/CNNDATA/Test/002/',\n",
        "        target_size=(pictureWeightHeightSize, pictureWeightHeightSize),    \n",
        "        batch_size=numberOfClass,\n",
        "        class_mode='categorical')\n",
        "print(\"-- Predict --\")\n",
        "output = model.predict(val_generator)\n",
        "np.set_printoptions(formatter={'float': lambda x: \"{0:0.3f}\".format(x)})\n",
        "print(val_generator.filenames)\n",
        "print(val_generator.class_indices)\n",
        "print(output)"
      ]
    },
    {
      "cell_type": "code",
      "execution_count": 10,
      "metadata": {
        "colab": {
          "base_uri": "https://localhost:8080/"
        },
        "id": "wY_ZQkak2Lyx",
        "outputId": "3f774f5f-34d2-4715-c57a-deaef34b134f"
      },
      "outputs": [
        {
          "output_type": "stream",
          "name": "stdout",
          "text": [
            "Found 1 images belonging to 1 classes.\n",
            "-- Predict --\n",
            "['0/031edge.png']\n",
            "{'0': 0}\n",
            "[[0.000 0.344 0.380 0.000 0.276]]\n"
          ]
        }
      ],
      "source": [
        "val_datagen = tf.keras.preprocessing.image.ImageDataGenerator(rescale=1./255)\n",
        "\n",
        "val_generator = val_datagen.flow_from_directory(\n",
        "        '/content/CNNDATA/MyDrive/CNNDATA/Test/003/',\n",
        "        target_size=(pictureWeightHeightSize, pictureWeightHeightSize),    \n",
        "        batch_size=numberOfClass,\n",
        "        class_mode='categorical')\n",
        "print(\"-- Predict --\")\n",
        "output = model.predict(val_generator)\n",
        "np.set_printoptions(formatter={'float': lambda x: \"{0:0.3f}\".format(x)})\n",
        "print(val_generator.filenames)\n",
        "print(val_generator.class_indices)\n",
        "print(output)"
      ]
    },
    {
      "cell_type": "code",
      "execution_count": 11,
      "metadata": {
        "colab": {
          "base_uri": "https://localhost:8080/"
        },
        "id": "ngd8fpB32MCp",
        "outputId": "86262e46-594f-47ae-b394-4601f6679f36"
      },
      "outputs": [
        {
          "output_type": "stream",
          "name": "stdout",
          "text": [
            "Found 1 images belonging to 1 classes.\n",
            "-- Predict --\n",
            "['0/032edge.png']\n",
            "{'0': 0}\n",
            "[[0.000 0.344 0.380 0.000 0.276]]\n"
          ]
        }
      ],
      "source": [
        "val_datagen = tf.keras.preprocessing.image.ImageDataGenerator(rescale=1./255)\n",
        "\n",
        "val_generator = val_datagen.flow_from_directory(\n",
        "        '/content/CNNDATA/MyDrive/CNNDATA/Test/004/',\n",
        "        target_size=(pictureWeightHeightSize, pictureWeightHeightSize),    \n",
        "        batch_size=numberOfClass,\n",
        "        class_mode='categorical')\n",
        "print(\"-- Predict --\")\n",
        "output = model.predict(val_generator)\n",
        "np.set_printoptions(formatter={'float': lambda x: \"{0:0.3f}\".format(x)})\n",
        "print(val_generator.filenames)\n",
        "print(val_generator.class_indices)\n",
        "print(output)"
      ]
    },
    {
      "cell_type": "code",
      "execution_count": 12,
      "metadata": {
        "colab": {
          "base_uri": "https://localhost:8080/"
        },
        "id": "34jvk1km2MOt",
        "outputId": "c1037f75-2407-46ad-a752-c4c41b41f2ec"
      },
      "outputs": [
        {
          "output_type": "stream",
          "name": "stdout",
          "text": [
            "Found 1 images belonging to 1 classes.\n",
            "-- Predict --\n",
            "['0/047edge.png']\n",
            "{'0': 0}\n",
            "[[0.000 0.344 0.380 0.000 0.276]]\n"
          ]
        }
      ],
      "source": [
        "val_datagen = tf.keras.preprocessing.image.ImageDataGenerator(rescale=1./255)\n",
        "\n",
        "val_generator = val_datagen.flow_from_directory(\n",
        "        '/content/CNNDATA/MyDrive/CNNDATA/Test/005/',\n",
        "        target_size=(pictureWeightHeightSize, pictureWeightHeightSize),    \n",
        "        batch_size=numberOfClass,\n",
        "        class_mode='categorical')\n",
        "print(\"-- Predict --\")\n",
        "output = model.predict(val_generator)\n",
        "np.set_printoptions(formatter={'float': lambda x: \"{0:0.3f}\".format(x)})\n",
        "print(val_generator.filenames)\n",
        "print(val_generator.class_indices)\n",
        "print(output)"
      ]
    },
    {
      "cell_type": "code",
      "execution_count": 13,
      "metadata": {
        "colab": {
          "base_uri": "https://localhost:8080/"
        },
        "id": "Gik7eFEj2Mam",
        "outputId": "8619c983-6072-4545-b689-35e1eda7a95a"
      },
      "outputs": [
        {
          "output_type": "stream",
          "name": "stdout",
          "text": [
            "Found 1 images belonging to 1 classes.\n",
            "-- Predict --\n",
            "['0/048edge.png']\n",
            "{'0': 0}\n",
            "[[0.000 0.344 0.380 0.000 0.276]]\n"
          ]
        }
      ],
      "source": [
        "val_datagen = tf.keras.preprocessing.image.ImageDataGenerator(rescale=1./255)\n",
        "\n",
        "val_generator = val_datagen.flow_from_directory(\n",
        "        '/content/CNNDATA/MyDrive/CNNDATA/Test/006/',\n",
        "        target_size=(pictureWeightHeightSize, pictureWeightHeightSize),    \n",
        "        batch_size=numberOfClass,\n",
        "        class_mode='categorical')\n",
        "print(\"-- Predict --\")\n",
        "output = model.predict(val_generator)\n",
        "np.set_printoptions(formatter={'float': lambda x: \"{0:0.3f}\".format(x)})\n",
        "print(val_generator.filenames)\n",
        "print(val_generator.class_indices)\n",
        "print(output)"
      ]
    },
    {
      "cell_type": "code",
      "execution_count": 14,
      "metadata": {
        "colab": {
          "base_uri": "https://localhost:8080/"
        },
        "id": "PoTA8d5o2MlH",
        "outputId": "8b2dc417-1aa6-4f56-e3a8-162a28f364ee"
      },
      "outputs": [
        {
          "output_type": "stream",
          "name": "stdout",
          "text": [
            "Found 1 images belonging to 1 classes.\n",
            "-- Predict --\n",
            "['0/063edge.png']\n",
            "{'0': 0}\n",
            "[[0.000 0.344 0.380 0.000 0.276]]\n"
          ]
        }
      ],
      "source": [
        "val_datagen = tf.keras.preprocessing.image.ImageDataGenerator(rescale=1./255)\n",
        "\n",
        "val_generator = val_datagen.flow_from_directory(\n",
        "        '/content/CNNDATA/MyDrive/CNNDATA/Test/007/',\n",
        "        target_size=(pictureWeightHeightSize, pictureWeightHeightSize),    \n",
        "        batch_size=numberOfClass,\n",
        "        class_mode='categorical')\n",
        "print(\"-- Predict --\")\n",
        "output = model.predict(val_generator)\n",
        "np.set_printoptions(formatter={'float': lambda x: \"{0:0.3f}\".format(x)})\n",
        "print(val_generator.filenames)\n",
        "print(val_generator.class_indices)\n",
        "print(output)"
      ]
    },
    {
      "cell_type": "code",
      "execution_count": 15,
      "metadata": {
        "colab": {
          "base_uri": "https://localhost:8080/"
        },
        "id": "EVh1gPGG2MvD",
        "outputId": "070f7d83-aef0-4eab-9222-508230cf9ab2"
      },
      "outputs": [
        {
          "output_type": "stream",
          "name": "stdout",
          "text": [
            "Found 1 images belonging to 1 classes.\n",
            "-- Predict --\n",
            "['0/064edge.png']\n",
            "{'0': 0}\n",
            "[[0.000 0.344 0.380 0.000 0.276]]\n"
          ]
        }
      ],
      "source": [
        "val_datagen = tf.keras.preprocessing.image.ImageDataGenerator(rescale=1./255)\n",
        "\n",
        "val_generator = val_datagen.flow_from_directory(\n",
        "        '/content/CNNDATA/MyDrive/CNNDATA/Test/008/',\n",
        "        target_size=(pictureWeightHeightSize, pictureWeightHeightSize),    \n",
        "        batch_size=numberOfClass,\n",
        "        class_mode='categorical')\n",
        "print(\"-- Predict --\")\n",
        "output = model.predict(val_generator)\n",
        "np.set_printoptions(formatter={'float': lambda x: \"{0:0.3f}\".format(x)})\n",
        "print(val_generator.filenames)\n",
        "print(val_generator.class_indices)\n",
        "print(output)"
      ]
    },
    {
      "cell_type": "code",
      "source": [
        "val_datagen = tf.keras.preprocessing.image.ImageDataGenerator(rescale=1./255)\n",
        "\n",
        "val_generator = val_datagen.flow_from_directory(\n",
        "        '/content/CNNDATA/MyDrive/CNNDATA/Test/009/',\n",
        "        target_size=(pictureWeightHeightSize, pictureWeightHeightSize),    \n",
        "        batch_size=numberOfClass,\n",
        "        class_mode='categorical')\n",
        "print(\"-- Predict --\")\n",
        "output = model.predict(val_generator)\n",
        "np.set_printoptions(formatter={'float': lambda x: \"{0:0.3f}\".format(x)})\n",
        "print(val_generator.filenames)\n",
        "print(val_generator.class_indices)\n",
        "print(output)"
      ],
      "metadata": {
        "colab": {
          "base_uri": "https://localhost:8080/"
        },
        "id": "1Oh4ZIV78Phq",
        "outputId": "7f205433-ae91-48b0-ae32-f27f39b10bc7"
      },
      "execution_count": 16,
      "outputs": [
        {
          "output_type": "stream",
          "name": "stdout",
          "text": [
            "Found 1 images belonging to 1 classes.\n",
            "-- Predict --\n",
            "['0/079edge.png']\n",
            "{'0': 0}\n",
            "[[0.000 0.344 0.380 0.000 0.276]]\n"
          ]
        }
      ]
    },
    {
      "cell_type": "code",
      "source": [
        "val_datagen = tf.keras.preprocessing.image.ImageDataGenerator(rescale=1./255)\n",
        "\n",
        "val_generator = val_datagen.flow_from_directory(\n",
        "        '/content/CNNDATA/MyDrive/CNNDATA/Test/010/',\n",
        "        target_size=(pictureWeightHeightSize, pictureWeightHeightSize),    \n",
        "        batch_size=numberOfClass,\n",
        "        class_mode='categorical')\n",
        "print(\"-- Predict --\")\n",
        "output = model.predict(val_generator)\n",
        "np.set_printoptions(formatter={'float': lambda x: \"{0:0.3f}\".format(x)})\n",
        "print(val_generator.filenames)\n",
        "print(val_generator.class_indices)\n",
        "print(output)"
      ],
      "metadata": {
        "colab": {
          "base_uri": "https://localhost:8080/"
        },
        "id": "1V-i4a6j8P1a",
        "outputId": "5cb4b596-c6cb-4415-f712-0ac5b66d008d"
      },
      "execution_count": 25,
      "outputs": [
        {
          "output_type": "stream",
          "name": "stdout",
          "text": [
            "Found 1 images belonging to 1 classes.\n",
            "-- Predict --\n",
            "['0/080edge.png']\n",
            "{'0': 0}\n",
            "[[0.000 0.344 0.380 0.000 0.276]]\n"
          ]
        }
      ]
    }
  ],
  "metadata": {
    "accelerator": "GPU",
    "colab": {
      "collapsed_sections": [],
      "name": "EECuC_220110_Try2H.ipynb",
      "provenance": [],
      "include_colab_link": true
    },
    "kernelspec": {
      "display_name": "Python 3 (ipykernel)",
      "language": "python",
      "name": "python3"
    },
    "language_info": {
      "codemirror_mode": {
        "name": "ipython",
        "version": 3
      },
      "file_extension": ".py",
      "mimetype": "text/x-python",
      "name": "python",
      "nbconvert_exporter": "python",
      "pygments_lexer": "ipython3",
      "version": "3.7.11"
    }
  },
  "nbformat": 4,
  "nbformat_minor": 0
}